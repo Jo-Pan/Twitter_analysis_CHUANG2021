{
 "cells": [
  {
   "cell_type": "code",
   "execution_count": 1,
   "id": "amended-worry",
   "metadata": {},
   "outputs": [
    {
     "name": "stdout",
     "output_type": "stream",
     "text": [
      "no display found. Using non-interactive Agg backend\n"
     ]
    }
   ],
   "source": [
    "import networkx as nx\n",
    "import ndlib.models.ModelConfig as mc\n",
    "import ndlib.models.epidemics as ep\n",
    "import pandas as pd\n",
    "from tqdm.notebook import tqdm\n",
    "\n",
    "import numpy as np\n",
    "#np.random.seed(0)\n",
    "\n",
    "from ndlib.viz.mpl.DiffusionTrend import DiffusionTrend\n",
    "import matplotlib.pyplot as plt\n",
    "%matplotlib inline\n",
    "from myDiffusion import IndependentCascadesModel\n",
    "\n",
    "adj = pd.read_csv(\"adj.csv\")"
   ]
  },
  {
   "cell_type": "code",
   "execution_count": 2,
   "id": "theoretical-logic",
   "metadata": {},
   "outputs": [],
   "source": [
    "# bc = pd.read_csv(f\"bc_{group}.csv\")\n",
    "# links\n",
    "# np.where(bc.betweenness_centrality>0)[0]"
   ]
  },
  {
   "cell_type": "markdown",
   "id": "retired-blackjack",
   "metadata": {},
   "source": [
    "# 1. Define initial active nodes"
   ]
  },
  {
   "cell_type": "code",
   "execution_count": 3,
   "id": "rental-savannah",
   "metadata": {},
   "outputs": [],
   "source": [
    "infected_nodes = {}\n",
    "for group in [\"Liu Yu\", \"Mika\"]:\n",
    "    infected_nodes[group] = {}\n",
    "    links = adj[adj[group]].drop(group,axis=1).drop_duplicates(ignore_index=True)\n",
    "    g = nx.from_pandas_edgelist(links, source=\"m_node\", target=\"node\", create_using=nx.DiGraph)\n",
    "    \n",
    "    for i_group, deg in zip([\"degree\", \"in_degree\", \"out_degree\", \"random\"], [g.degree(), g.in_degree(), g.out_degree()]):\n",
    "        temp = sorted(deg, key=lambda x: x[1], reverse=True)\n",
    "        infected_nodes[group][i_group] = np.array(temp)[:,0]\n",
    "    \n",
    "    # Random\n",
    "    temp = list(g.nodes)\n",
    "    np.random.shuffle(temp)\n",
    "    infected_nodes[group][\"random\"] =  temp"
   ]
  },
  {
   "cell_type": "code",
   "execution_count": 4,
   "id": "harmful-intention",
   "metadata": {},
   "outputs": [
    {
     "name": "stdout",
     "output_type": "stream",
     "text": [
      "[53677 54146 55173 56045 54371 54149 53701 55534 55256 55565] Liu Yu degree\n",
      "[ 5988 54233 54019 54204 56215 35678 39478 48688 19380   776] Liu Yu in_degree\n",
      "[53677 54146 55173 56045 54371 54149 53701 55534 55256 54147] Liu Yu out_degree\n",
      "[3755, 46074, 46928, 3042, 12086, 15651, 39471, 44947, 37018, 29722] Liu Yu random\n",
      "[53677 57117 56232 54371 55891 54254 54247 54677 55173 56397] Mika degree\n",
      "[42643 50617 56397 56871 53837 54766 54113 54411 55364 54044] Mika in_degree\n",
      "[53677 57117 56232 54371 55891 54254 54247 54677 55173 55283] Mika out_degree\n",
      "[13413, 49942, 8281, 4773, 32096, 33088, 48150, 6640, 53813, 1389] Mika random\n"
     ]
    }
   ],
   "source": [
    "for group in [\"Liu Yu\", \"Mika\"]:\n",
    "    for i_group in [\"degree\", \"in_degree\", \"out_degree\", \"random\"]:\n",
    "        print(infected_nodes[group][i_group][:10], group,i_group)"
   ]
  },
  {
   "cell_type": "markdown",
   "id": "broadband-burning",
   "metadata": {},
   "source": [
    "# 2. Run diffusion experiments"
   ]
  },
  {
   "cell_type": "code",
   "execution_count": 5,
   "id": "ultimate-heaven",
   "metadata": {
    "scrolled": true
   },
   "outputs": [
    {
     "name": "stderr",
     "output_type": "stream",
     "text": [
      "100%|██████████| 20/20 [00:01<00:00, 15.07it/s]\n",
      "100%|██████████| 20/20 [00:00<00:00, 23.19it/s]\n",
      "100%|██████████| 20/20 [00:00<00:00, 22.88it/s]\n",
      "100%|██████████| 20/20 [00:00<00:00, 26.39it/s]\n",
      "100%|██████████| 20/20 [00:00<00:00, 27.89it/s]\n",
      "100%|██████████| 20/20 [00:03<00:00,  6.59it/s]\n",
      "100%|██████████| 20/20 [00:02<00:00,  7.09it/s]\n",
      "100%|██████████| 20/20 [00:02<00:00,  7.30it/s]\n",
      "100%|██████████| 20/20 [00:02<00:00,  7.47it/s]\n",
      "100%|██████████| 20/20 [00:02<00:00,  7.92it/s]\n",
      "100%|██████████| 20/20 [00:01<00:00, 15.17it/s]\n",
      "100%|██████████| 20/20 [00:00<00:00, 22.46it/s]\n",
      "100%|██████████| 20/20 [00:00<00:00, 25.04it/s]\n",
      "100%|██████████| 20/20 [00:00<00:00, 28.18it/s]\n",
      "100%|██████████| 20/20 [00:00<00:00, 29.52it/s]\n",
      "100%|██████████| 20/20 [00:03<00:00,  6.60it/s]\n",
      "100%|██████████| 20/20 [00:03<00:00,  6.56it/s]\n",
      "100%|██████████| 20/20 [00:03<00:00,  6.64it/s]\n",
      "100%|██████████| 20/20 [00:02<00:00,  6.68it/s]\n",
      "100%|██████████| 20/20 [00:02<00:00,  6.84it/s]\n",
      "100%|██████████| 20/20 [00:01<00:00, 11.96it/s]\n",
      "100%|██████████| 20/20 [00:01<00:00, 11.28it/s]\n",
      "100%|██████████| 20/20 [00:01<00:00, 11.01it/s]\n",
      "100%|██████████| 20/20 [00:01<00:00, 10.92it/s]\n",
      "100%|██████████| 20/20 [00:01<00:00, 10.84it/s]\n",
      "100%|██████████| 20/20 [00:01<00:00, 15.65it/s]\n",
      "100%|██████████| 20/20 [00:01<00:00, 15.42it/s]\n",
      "100%|██████████| 20/20 [00:01<00:00, 15.18it/s]\n",
      "100%|██████████| 20/20 [00:01<00:00, 15.17it/s]\n",
      "100%|██████████| 20/20 [00:01<00:00, 14.82it/s]\n",
      "100%|██████████| 20/20 [00:01<00:00, 11.79it/s]\n",
      "100%|██████████| 20/20 [00:01<00:00, 10.99it/s]\n",
      "100%|██████████| 20/20 [00:01<00:00, 10.90it/s]\n",
      "100%|██████████| 20/20 [00:01<00:00, 10.70it/s]\n",
      "100%|██████████| 20/20 [00:01<00:00, 10.55it/s]\n",
      "100%|██████████| 20/20 [00:00<00:00, 28.99it/s]\n",
      "100%|██████████| 20/20 [00:01<00:00, 16.13it/s]\n",
      "100%|██████████| 20/20 [00:01<00:00, 16.18it/s]\n",
      "100%|██████████| 20/20 [00:01<00:00, 16.02it/s]\n",
      "100%|██████████| 20/20 [00:01<00:00, 14.77it/s]\n",
      "100%|██████████| 20/20 [00:02<00:00,  8.53it/s]\n",
      "100%|██████████| 20/20 [00:01<00:00, 14.40it/s]\n",
      "100%|██████████| 20/20 [00:01<00:00, 14.72it/s]\n",
      "100%|██████████| 20/20 [00:01<00:00, 14.73it/s]\n",
      "100%|██████████| 20/20 [00:01<00:00, 16.22it/s]\n",
      "100%|██████████| 20/20 [00:04<00:00,  4.00it/s]\n",
      "100%|██████████| 20/20 [00:04<00:00,  4.16it/s]\n",
      "100%|██████████| 20/20 [00:04<00:00,  4.35it/s]\n",
      "100%|██████████| 20/20 [00:03<00:00,  5.59it/s]\n",
      "100%|██████████| 20/20 [00:03<00:00,  5.61it/s]\n",
      "100%|██████████| 20/20 [00:02<00:00,  7.42it/s]\n",
      "100%|██████████| 20/20 [00:01<00:00, 15.67it/s]\n",
      "100%|██████████| 20/20 [00:01<00:00, 15.86it/s]\n",
      "100%|██████████| 20/20 [00:01<00:00, 16.54it/s]\n",
      "100%|██████████| 20/20 [00:01<00:00, 16.86it/s]\n",
      "100%|██████████| 20/20 [00:05<00:00,  3.87it/s]\n",
      "100%|██████████| 20/20 [00:05<00:00,  3.91it/s]\n",
      "100%|██████████| 20/20 [00:05<00:00,  3.91it/s]\n",
      "100%|██████████| 20/20 [00:04<00:00,  4.03it/s]\n",
      "100%|██████████| 20/20 [00:04<00:00,  4.01it/s]\n",
      "100%|██████████| 20/20 [00:03<00:00,  6.66it/s]\n",
      "100%|██████████| 20/20 [00:03<00:00,  6.23it/s]\n",
      "100%|██████████| 20/20 [00:03<00:00,  6.45it/s]\n",
      "100%|██████████| 20/20 [00:03<00:00,  6.36it/s]\n",
      "100%|██████████| 20/20 [00:03<00:00,  6.35it/s]\n",
      "100%|██████████| 20/20 [00:02<00:00,  8.50it/s]\n",
      "100%|██████████| 20/20 [00:02<00:00,  8.30it/s]\n",
      "100%|██████████| 20/20 [00:02<00:00,  8.07it/s]\n",
      "100%|██████████| 20/20 [00:02<00:00,  8.15it/s]\n",
      "100%|██████████| 20/20 [00:02<00:00,  8.39it/s]\n",
      "100%|██████████| 20/20 [00:02<00:00,  6.89it/s]\n",
      "100%|██████████| 20/20 [00:03<00:00,  6.58it/s]\n",
      "100%|██████████| 20/20 [00:03<00:00,  6.39it/s]\n",
      "100%|██████████| 20/20 [00:03<00:00,  6.27it/s]\n",
      "100%|██████████| 20/20 [00:03<00:00,  6.15it/s]\n",
      "100%|██████████| 20/20 [00:01<00:00, 16.94it/s]\n",
      "100%|██████████| 20/20 [00:02<00:00,  8.44it/s]\n",
      "100%|██████████| 20/20 [00:02<00:00,  8.37it/s]\n",
      "100%|██████████| 20/20 [00:02<00:00,  8.55it/s]\n",
      "100%|██████████| 20/20 [00:02<00:00,  8.42it/s]\n"
     ]
    }
   ],
   "source": [
    "# Model selection\n",
    "all_trs = {}\n",
    "init_ns = [10, 100, 200, 500, 1000]\n",
    "threshold = 0.5\n",
    "ITERATIONS = 20\n",
    "\n",
    "for group in [\"Liu Yu\", \"Mika\"]:\n",
    "    all_trs[group] = {}\n",
    "    links = adj[adj[group]].drop(group,axis=1).drop_duplicates(ignore_index=True)\n",
    "    g = nx.from_pandas_edgelist(links, source=\"m_node\", target=\"node\", create_using=nx.DiGraph)\n",
    "    all_trs[group][\"n_nodes\"] = len(g.nodes())\n",
    "    \n",
    "    for m in [\"TM\", \"ICM\"]:\n",
    "        all_trs[group][m] = {}\n",
    "        for i_group in [\"degree\", \"in_degree\", \"out_degree\", \"random\"]:\n",
    "            trs = []\n",
    "            for init_n in init_ns:\n",
    "                config = mc.Configuration()\n",
    "                config.add_model_initial_configuration(\"Infected\", infected_nodes[group][i_group][:init_n])\n",
    "\n",
    "                if m == \"TM\":\n",
    "                    model = ep.ThresholdModel(g)\n",
    "                    for i in g.nodes():\n",
    "                        config.add_node_configuration(\"threshold\", i, threshold)\n",
    "\n",
    "                elif m == \"ICM\":\n",
    "                    model = IndependentCascadesModel(g)\n",
    "                    for e in g.edges():\n",
    "                        config.add_edge_configuration(\"threshold\", e, threshold)\n",
    "\n",
    "\n",
    "                model.set_initial_status(config)\n",
    "                # Simulation execution\n",
    "                iterations = model.iteration_bunch(ITERATIONS)\n",
    "\n",
    "                # Plot Trend\n",
    "                trends = model.build_trends(iterations)\n",
    "\n",
    "                trs.append(trends[0][\"trends\"][\"node_count\"][1])\n",
    "                #viz = DiffusionTrend(model, trends)\n",
    "                #viz.plot()\n",
    "                #plt.plot(trs[0])\n",
    "\n",
    "            all_trs[group][m][i_group] = trs"
   ]
  },
  {
   "cell_type": "markdown",
   "id": "daily-brazil",
   "metadata": {},
   "source": [
    "# 3. Evaluate"
   ]
  },
  {
   "cell_type": "code",
   "execution_count": 6,
   "id": "oriented-junction",
   "metadata": {},
   "outputs": [],
   "source": [
    "def inverse(x):\n",
    "    return x"
   ]
  },
  {
   "cell_type": "code",
   "execution_count": 7,
   "id": "religious-processor",
   "metadata": {},
   "outputs": [
    {
     "name": "stdout",
     "output_type": "stream",
     "text": [
      "Liu Yu | TM  degree | N0 = 1000: #active node=27154 (0.96)| N0=10: 22669 (0.80)\n",
      "Liu Yu | TM  out_degree | N0 = 1000: #active node=27685 (0.98)| N0=10: 22669 (0.80)\n",
      "Liu Yu | TM  in_degree | N0 = 1000: #active node=5618 (0.20)| N0=10: 30 (0.00)\n",
      "Liu Yu | TM  random | N0 = 1000: #active node=1149 (0.04)| N0=10: 10 (0.00)\n",
      "Liu Yu | ICM  degree | N0 = 1000: #active node=27174 (0.96)| N0=10: 23609 (0.83)\n",
      "Liu Yu | ICM  out_degree | N0 = 1000: #active node=27692 (0.98)| N0=10: 23609 (0.83)\n",
      "Liu Yu | ICM  in_degree | N0 = 1000: #active node=14687 (0.52)| N0=10: 14685 (0.52)\n",
      "Liu Yu | ICM  random | N0 = 1000: #active node=15220 (0.54)| N0=10: 10 (0.00)\n"
     ]
    },
    {
     "name": "stderr",
     "output_type": "stream",
     "text": [
      "/opt/conda/envs/rapids/lib/python3.7/site-packages/ipykernel_launcher.py:28: UserWarning: This figure was using constrained_layout==True, but that is incompatible with subplots_adjust and or tight_layout: setting constrained_layout==False. \n"
     ]
    },
    {
     "name": "stdout",
     "output_type": "stream",
     "text": [
      "Mika | TM  degree | N0 = 1000: #active node=44142 (0.96)| N0=10: 38538 (0.84)\n",
      "Mika | TM  out_degree | N0 = 1000: #active node=44590 (0.97)| N0=10: 32298 (0.70)\n",
      "Mika | TM  in_degree | N0 = 1000: #active node=17810 (0.39)| N0=10: 747 (0.02)\n",
      "Mika | TM  random | N0 = 1000: #active node=1131 (0.02)| N0=10: 11 (0.00)\n",
      "Mika | ICM  degree | N0 = 1000: #active node=44196 (0.96)| N0=10: 40186 (0.88)\n",
      "Mika | ICM  out_degree | N0 = 1000: #active node=44614 (0.97)| N0=10: 40186 (0.88)\n",
      "Mika | ICM  in_degree | N0 = 1000: #active node=27388 (0.60)| N0=10: 27387 (0.60)\n",
      "Mika | ICM  random | N0 = 1000: #active node=27833 (0.61)| N0=10: 15 (0.00)\n"
     ]
    },
    {
     "name": "stderr",
     "output_type": "stream",
     "text": [
      "/opt/conda/envs/rapids/lib/python3.7/site-packages/ipykernel_launcher.py:28: UserWarning: This figure was using constrained_layout==True, but that is incompatible with subplots_adjust and or tight_layout: setting constrained_layout==False. \n"
     ]
    },
    {
     "data": {
      "image/png": "[encoded data removed]",
      "text/plain": [
       "<Figure size 720x216 with 2 Axes>"
      ]
     },
     "metadata": {
      "needs_background": "light"
     },
     "output_type": "display_data"
    },
    {
     "data": {
      "image/png": "[encoded data removed]",
      "text/plain": [
       "<Figure size 720x216 with 2 Axes>"
      ]
     },
     "metadata": {
      "needs_background": "light"
     },
     "output_type": "display_data"
    }
   ],
   "source": [
    "for group in [\"Liu Yu\", \"Mika\"]:\n",
    "    fig, axes = plt.subplots(1,2, constrained_layout=True, figsize=(10,3))\n",
    "    #fig.set_title(group)\n",
    "    N_NODES = all_trs[group][\"n_nodes\"]\n",
    "    def forward(x, N_NODES=N_NODES):\n",
    "        return (x/N_NODES)\n",
    "        \n",
    "    for p_i, m in enumerate([\"TM\", \"ICM\"]):\n",
    "        for i_group in [\"degree\", \"out_degree\", \"in_degree\", \"random\"]:\n",
    "        #for i_group in [\"degree\",  \"random\"]:    \n",
    "            _ = axes[p_i].plot(init_ns, np.array(all_trs[group][m][i_group])[:, -1], label=i_group)\n",
    "            temp = np.array(all_trs[group][m][i_group])[-1, -1]\n",
    "            temp2 = np.array(all_trs[group][m][i_group])[0, -1]\n",
    "            print(f\"{group} | {m}  {i_group} | N0 = 1000: #active node={temp} ({temp/N_NODES:.2f})| N0=10: {temp2} ({temp2/N_NODES:.2f})\")\n",
    "        secax = axes[p_i].secondary_yaxis(1, functions=(forward, inverse))\n",
    "        _ = axes[p_i].set_ylabel(\"Number of active nodes\")\n",
    "        _ = axes[p_i].set_xlabel(\"Number of initial active nodes ($N_0$)\")\n",
    "        _ = axes[p_i].set_xticks(init_ns)\n",
    "        _ = secax.set_ylabel(\"Influence rate\")\n",
    "        if p_i == 1:\n",
    "            _ = axes[p_i].legend()\n",
    "        _ = axes[p_i].set_title(m)\n",
    "        _ = axes[p_i].set_ylim(0, np.ceil(N_NODES/1000)*1000)\n",
    "        \n",
    "        \n",
    "    plt.tight_layout()\n",
    "    plt.savefig(f\"fig/diffusion_{group}.png\")"
   ]
  }
 ],
 "metadata": {
  "kernelspec": {
   "display_name": "Python 3",
   "language": "python",
   "name": "python3"
  },
  "language_info": {
   "codemirror_mode": {
    "name": "ipython",
    "version": 3
   },
   "file_extension": ".py",
   "mimetype": "text/x-python",
   "name": "python",
   "nbconvert_exporter": "python",
   "pygments_lexer": "ipython3",
   "version": "3.7.10"
  }
 },
 "nbformat": 4,
 "nbformat_minor": 5
}
